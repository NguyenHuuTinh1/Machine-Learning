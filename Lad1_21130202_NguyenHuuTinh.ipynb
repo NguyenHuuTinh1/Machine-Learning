{
  "nbformat": 4,
  "nbformat_minor": 0,
  "metadata": {
    "colab": {
      "provenance": [],
      "authorship_tag": "ABX9TyOkdfJ4m4Aryh/vcdbUD8+a",
      "include_colab_link": true
    },
    "kernelspec": {
      "name": "python3",
      "display_name": "Python 3"
    },
    "language_info": {
      "name": "python"
    }
  },
  "cells": [
    {
      "cell_type": "markdown",
      "metadata": {
        "id": "view-in-github",
        "colab_type": "text"
      },
      "source": [
        "<a href=\"https://colab.research.google.com/github/NguyenHuuTinh1/Machine-Learning/blob/main/Lad1_21130202_NguyenHuuTinh.ipynb\" target=\"_parent\"><img src=\"https://colab.research.google.com/assets/colab-badge.svg\" alt=\"Open In Colab\"/></a>"
      ]
    },
    {
      "cell_type": "code",
      "execution_count": 9,
      "metadata": {
        "id": "-LCxaGIC59DV",
        "colab": {
          "base_uri": "https://localhost:8080/"
        },
        "outputId": "4e6d6257-6263-49c5-938f-e1ba98121df8"
      },
      "outputs": [
        {
          "output_type": "stream",
          "name": "stdout",
          "text": [
            "Nhap vao: 3\n",
            "Nhan gia tri trong mang: 1\n",
            "Nhan gia tri trong mang: 2\n",
            "Nhan gia tri trong mang: 3\n",
            "3\n",
            "1\n",
            "6\n",
            "[1, 2, 3]\n",
            "3\n",
            "0\n"
          ]
        }
      ],
      "source": [
        "# task1.1\n",
        "n = int(input(\"Nhap vao: \"))\n",
        "L = []\n",
        "for i in range(n):\n",
        "  L.append(int(input(\"Nhan gia tri trong mang: \")))\n",
        "print(max(L))\n",
        "print(min(L))\n",
        "print(sum(L))\n",
        "\n",
        "L.sort()\n",
        "print(L)\n",
        "\n",
        "\n",
        "duong = 0;\n",
        "am = 0;\n",
        "for i in L:\n",
        "  if i > 0: duong += 1\n",
        "  if i < 0: am +=1\n",
        "print(duong)\n",
        "print(am)\n"
      ]
    },
    {
      "cell_type": "code",
      "source": [
        "# task1.2\n",
        "n = int(input(\"Nhap n: \"));\n",
        "L=[]\n",
        "tong = 0\n",
        "size=0\n",
        "for i in range(n+1):\n",
        "  if i > 0:\n",
        "    tong_phu = 1\n",
        "    for j in range(i+1):\n",
        "      if j > 0:\n",
        "        tong_phu *= j\n",
        "    tong+= tong_phu\n",
        "print(tong)\n"
      ],
      "metadata": {
        "colab": {
          "base_uri": "https://localhost:8080/"
        },
        "id": "HdIPW239HW7h",
        "outputId": "9d9e3ab7-b8e9-4b40-b8b5-0481a0997346"
      },
      "execution_count": 38,
      "outputs": [
        {
          "output_type": "stream",
          "name": "stdout",
          "text": [
            "Nhap n: 3\n",
            "9\n"
          ]
        }
      ]
    }
  ]
}